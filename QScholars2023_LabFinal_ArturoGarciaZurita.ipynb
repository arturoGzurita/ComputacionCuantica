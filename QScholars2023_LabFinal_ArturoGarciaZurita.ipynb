{
 "cells": [
  {
   "cell_type": "markdown",
   "id": "26a95c84-7fd5-4eac-ad87-d72a990eab2e",
   "metadata": {},
   "source": [
    "<table width=\"100%\"><tr><td style=\"color:#bbbbbb;background-color:#ffffff;font-size:11px;font-style:italic;text-align:right;\"></td></tr></table>\n",
    "$ \\newcommand{\\bra}[1]{\\langle #1|} $\n",
    "$ \\newcommand{\\ket}[1]{|#1\\rangle} $\n",
    "$ \\newcommand{\\braket}[2]{\\langle #1|#2\\rangle} $\n",
    "$ \\newcommand{\\dot}[2]{ #1 \\cdot #2} $\n",
    "$ \\newcommand{\\biginner}[2]{\\left\\langle #1,#2\\right\\rangle} $\n",
    "$ \\newcommand{\\mymatrix}[2]{\\left( \\begin{array}{#1} #2\\end{array} \\right)} $\n",
    "$ \\newcommand{\\myvector}[1]{\\mymatrix{c}{#1}} $\n",
    "$ \\newcommand{\\myrvector}[1]{\\mymatrix{r}{#1}} $\n",
    "$ \\newcommand{\\mypar}[1]{\\left( #1 \\right)} $\n",
    "$ \\newcommand{\\mybigpar}[1]{ \\Big( #1 \\Big)} $\n",
    "$ \\newcommand{\\sqrttwo}{\\frac{1}{\\sqrt{2}}} $\n",
    "$ \\newcommand{\\dsqrttwo}{\\dfrac{1}{\\sqrt{2}}} $\n",
    "$ \\newcommand{\\onehalf}{\\frac{1}{2}} $\n",
    "$ \\newcommand{\\donehalf}{\\dfrac{1}{2}} $\n",
    "$ \\newcommand{\\hadamard}{ \\mymatrix{rr}{ \\sqrttwo & \\sqrttwo \\\\ \\sqrttwo & -\\sqrttwo }} $\n",
    "$ \\newcommand{\\vzero}{\\myvector{1\\\\0}} $\n",
    "$ \\newcommand{\\vone}{\\myvector{0\\\\1}} $\n",
    "$ \\newcommand{\\stateplus}{\\myvector{ \\sqrttwo \\\\  \\sqrttwo } } $\n",
    "$ \\newcommand{\\stateminus}{ \\myrvector{ \\sqrttwo \\\\ -\\sqrttwo } } $\n",
    "$ \\newcommand{\\myarray}[2]{ \\begin{array}{#1}#2\\end{array}} $\n",
    "$ \\newcommand{\\X}{ \\mymatrix{cc}{0 & 1 \\\\ 1 & 0}  } $\n",
    "$ \\newcommand{\\Z}{ \\mymatrix{rr}{1 & 0 \\\\ 0 & -1}  } $\n",
    "$ \\newcommand{\\Htwo}{ \\mymatrix{rrrr}{ \\frac{1}{2} & \\frac{1}{2} & \\frac{1}{2} & \\frac{1}{2} \\\\ \\frac{1}{2} & -\\frac{1}{2} & \\frac{1}{2} & -\\frac{1}{2} \\\\ \\frac{1}{2} & \\frac{1}{2} & -\\frac{1}{2} & -\\frac{1}{2} \\\\ \\frac{1}{2} & -\\frac{1}{2} & -\\frac{1}{2} & \\frac{1}{2} } } $\n",
    "$ \\newcommand{\\CNOT}{ \\mymatrix{cccc}{1 & 0 & 0 & 0 \\\\ 0 & 1 & 0 & 0 \\\\ 0 & 0 & 0 & 1 \\\\ 0 & 0 & 1 & 0} } $\n",
    "$ \\newcommand{\\norm}[1]{ \\left\\lVert #1 \\right\\rVert } $\n",
    "$ \\newcommand{\\pstate}[1]{ \\lceil \\mspace{-1mu} #1 \\mspace{-1.5mu} \\rfloor } $\n",
    "\n",
    "<center>\n",
    "<img src=\"https://media.discordapp.net/attachments/1126231743641428109/1138188172694650941/image.png?width=960&height=473\">"
   ]
  },
  {
   "cell_type": "markdown",
   "id": "482aa5db-992f-42db-8466-c3c5f4060ef7",
   "metadata": {},
   "source": [
    "    \n",
    "## <center> QUANTUM SCHOLARS 2023\n",
    "\n",
    "\n",
    "Autores: [Ricardo Quispe M.](https://github.com/RcrdPhysics).\\, Tony Milla y Gustavo Valdivia\n",
    "Institución: QuantumQuipu, Universidad Nacional Mayor de San Marcos\\\n",
    "Correo: ricardo.quispe5@unmsm.edu.pe, tony.milla@unmsm.edu.pe, gvaldiviamera@uh.edu\n",
    "    \n",
    "Este material está sujeto a los términos y condiciones de la licencia [Creative Commons CC BY-NC-SA 4.0](https://creativecommons.org/licenses/by-nc-sa/4.0/). Se permite el uso gratuito para cualquier propósito no comercial.\n",
    "\n",
    "*También puede consultar la última versión de este notebook en nuestro [repositorio](https://github.com/QuantumQuipu/QuantumScholars2023) y los videos de clase [en nuestro canal de Youtube](https://www.youtube.com/@quantumquipu-unmsm1091/streams).*\n",
    "    "
   ]
  },
  {
   "cell_type": "markdown",
   "id": "bdb67873",
   "metadata": {},
   "source": [
    "<h1>Respuestas por : Fis. Arturo García Zurita "
   ]
  },
  {
   "cell_type": "markdown",
   "id": "2398c92e-3b37-472d-9c60-fb98204efa25",
   "metadata": {},
   "source": [
    "Indicaciones:\n",
    "\n",
    "1.- Este notebook deberá ser enviado a través del siguiente formulario: https://forms.gle/LRtmmhvZZ85Cuq5t9\n",
    "\n",
    "2.- Fecha de entrega miércoles 16 de Agosto a las 18Hrs GMT-5\n",
    "\n",
    "3.- Deberá adjuntar toda su solución en un solo notebook. (Ya sea cálculos a mano en formato imagen, o visualizaciones externas)\n",
    "\n",
    "4.- Los problemas extra pueden reemplazar a cualquier problema dentro de la misma clase.\n",
    "\n"
   ]
  },
  {
   "cell_type": "code",
   "execution_count": 1,
   "id": "f30e76a8",
   "metadata": {},
   "outputs": [
    {
     "name": "stderr",
     "output_type": "stream",
     "text": [
      "C:\\Users\\zetsu\\AppData\\Local\\Temp\\ipykernel_31092\\3784730628.py:3: DeprecationWarning: The ``qiskit.opflow`` module is deprecated as of qiskit-terra 0.24.0. It will be removed no earlier than 3 months after the release date. For code migration guidelines, visit https://qisk.it/opflow_migration.\n",
      "  from qiskit.opflow import CircuitStateFn\n"
     ]
    }
   ],
   "source": [
    "from qiskit.visualization import array_to_latex\n",
    "from qiskit.quantum_info import Statevector \n",
    "from qiskit.opflow import CircuitStateFn\n",
    "from qiskit.quantum_info.operators import Operator, Pauli\n",
    "from qiskit import QuantumCircuit\n",
    "import numpy as np"
   ]
  },
  {
   "cell_type": "markdown",
   "id": "a62492b4-4d9b-428f-9bec-8d5ad52004c3",
   "metadata": {},
   "source": [
    "## Clase 1-2:"
   ]
  },
  {
   "cell_type": "markdown",
   "id": "138e858b-69b2-4ba2-ac77-cf1410830d45",
   "metadata": {},
   "source": [
    "1.- ¿Cuál es el vector de estado de un sistema compuesto por 3 qubits , estando los qubits individuales(e independientes) en los estados  $|+\\rangle $ , $|+\\rangle $,$| -\\rangle $,? Luego hacer las mediciones parciales para el qubit central,repetir lo mismo con qiskit.\n",
    "\n"
   ]
  },
  {
   "cell_type": "markdown",
   "id": "1d56543c",
   "metadata": {},
   "source": [
    "    Solución"
   ]
  },
  {
   "cell_type": "markdown",
   "id": "3a887f8d",
   "metadata": {},
   "source": [
    "Partiendo de \\\n",
    "$\\ket{+} = \\frac{1}{\\sqrt{2}} \\ket{0} + \\frac{1}{\\sqrt{2}} \\ket{1}$ \\\n",
    "$\\ket{-} = \\frac{1}{\\sqrt{2}} \\ket{0} - \\frac{1}{\\sqrt{2}} \\ket{1}$ \\\n",
    "el vector de estado de un sistema cumpuesto por los estados $|+\\rangle $ , $|+\\rangle $,$| -\\rangle $ esta dado por \\\n",
    "$\n",
    "\\begin{align}\n",
    "\\ket{\\psi}  &= (\\frac{1}{\\sqrt{2}} \\ket{0} + \\frac{1}{\\sqrt{2}} \\ket{1})(\\frac{1}{\\sqrt{2}} \\ket{0} + \\frac{1}{\\sqrt{2}} \\ket{1})(\\frac{1}{\\sqrt{2}} \\ket{0} - \\frac{1}{\\sqrt{2}} \\ket{1}) \\\\\n",
    "& = \\frac{1}{2 \\sqrt{2}} ( \\ket{000} + \\ket{010} + \\ket{100} + \\ket{110} - \\ket{001} - \\ket{011} - \\ket{101} - \\ket{111})\n",
    "\\end{align}\n",
    "$"
   ]
  },
  {
   "cell_type": "code",
   "execution_count": 2,
   "id": "5acb6af1",
   "metadata": {},
   "outputs": [
    {
     "data": {
      "text/latex": [
       "$$\\frac{\\sqrt{2}}{4} |000\\rangle- \\frac{\\sqrt{2}}{4} |001\\rangle+\\frac{\\sqrt{2}}{4} |010\\rangle- \\frac{\\sqrt{2}}{4} |011\\rangle+\\frac{\\sqrt{2}}{4} |100\\rangle- \\frac{\\sqrt{2}}{4} |101\\rangle+\\frac{\\sqrt{2}}{4} |110\\rangle- \\frac{\\sqrt{2}}{4} |111\\rangle$$"
      ],
      "text/plain": [
       "<IPython.core.display.Latex object>"
      ]
     },
     "execution_count": 2,
     "metadata": {},
     "output_type": "execute_result"
    }
   ],
   "source": [
    "q1 = Statevector.from_label('+')\n",
    "q2 = Statevector.from_label('+')\n",
    "q3 = Statevector.from_label('-')\n",
    "\n",
    "psi = q1.tensor(q2).tensor(q3)\n",
    "psi.draw('Latex')"
   ]
  },
  {
   "cell_type": "markdown",
   "id": "a852f2a0",
   "metadata": {},
   "source": [
    "Mediciones parciales"
   ]
  },
  {
   "cell_type": "code",
   "execution_count": 3,
   "id": "1e7719e8",
   "metadata": {},
   "outputs": [
    {
     "name": "stdout",
     "output_type": "stream",
     "text": [
      "probs: {'0': 0.4999999999999998, '1': 0.4999999999999998}\n"
     ]
    }
   ],
   "source": [
    "probs_ket_psi = psi.probabilities_dict([2])\n",
    "print('probs: {}'.format(probs_ket_psi))"
   ]
  },
  {
   "cell_type": "markdown",
   "id": "27a41ed1",
   "metadata": {},
   "source": [
    "2.- ¿Cuántos qubits independientes tiene como mínimo el siguiente sistema?\n",
    "\n",
    "<center>\n",
    "<img src=\"https://raw.githubusercontent.com/tonymilla/QuantumScholars2023/main/imagenes/examen/q_spherequestion.png\">\n"
   ]
  },
  {
   "cell_type": "markdown",
   "id": "47b94622",
   "metadata": {},
   "source": [
    "    Solución"
   ]
  },
  {
   "cell_type": "markdown",
   "id": "ee0a2970",
   "metadata": {},
   "source": [
    "Como mínimo, tiene dos cúbits debido a que presenta dos puntos en la q-esféra"
   ]
  },
  {
   "cell_type": "markdown",
   "id": "85ba80c8",
   "metadata": {},
   "source": [
    "3.- ¿Cómo se escribiría en notación de Dirac una compuerta CU3 desarrollalo e implementalo en qiskit para $\\theta = \\pi$, $\\phi = \\frac{\\pi}{2}$ y $\\lambda = \\frac{7\\pi}{2}$ "
   ]
  },
  {
   "cell_type": "markdown",
   "id": "2cd8f9df",
   "metadata": {},
   "source": [
    "    Solución"
   ]
  },
  {
   "cell_type": "markdown",
   "id": "648e13b8",
   "metadata": {},
   "source": [
    "Bajo la notación de Dirac, la compuerta CU3 puede escribirse como"
   ]
  },
  {
   "cell_type": "markdown",
   "id": "0e45d959",
   "metadata": {},
   "source": [
    "\\begin{align}\\begin{aligned}\n",
    "\\begin{split}CU3(\\theta, \\phi, \\lambda)\\ q_0, q_1 =\n",
    "    I \\otimes |0\\rangle\\langle 0| +\n",
    "    U3(\\theta,\\phi,\\lambda) \\otimes |1\\rangle\\langle 1| =\n",
    "    \\begin{pmatrix}\n",
    "        1 & 0                   & 0 & 0 \\\\\n",
    "        0 & \\cos(\\frac{\\theta}{2})           & 0 & -e^{i\\lambda}\\sin(\\frac{\\theta}{2}) \\\\\n",
    "        0 & 0                   & 1 & 0 \\\\\n",
    "        0 & e^{i\\phi}\\sin(\\frac{\\theta}{2})  & 0 & e^{i(\\phi+\\lambda)}\\cos(\\frac{\\theta}{2})\n",
    "\\end{pmatrix}\\end{split}\\end{aligned}\\end{align}"
   ]
  },
  {
   "cell_type": "markdown",
   "id": "ae4fc61f",
   "metadata": {},
   "source": [
    "Para $\\theta = \\pi$, $\\phi = \\frac{\\pi}{2}$ y $\\lambda = \\frac{7\\pi}{2}$ se tiene"
   ]
  },
  {
   "cell_type": "markdown",
   "id": "b4d0441a",
   "metadata": {},
   "source": [
    "\\begin{align}\\begin{aligned}\n",
    "\\begin{split}CU3(\\theta, \\phi, \\lambda)\\ q_0, q_1 =\n",
    "    \\begin{pmatrix}\n",
    "        1 & 0                   & 0 & 0 \\\\\n",
    "        0 & \\cos(\\frac{\\pi}{2})           & 0 & -e^{7i\\pi/2}\\sin(\\frac{\\pi}{2}) \\\\\n",
    "        0 & 0                   & 1 & 0 \\\\\n",
    "        0 & e^{i\\pi/2}\\sin(\\frac{\\pi}{2})  & 0 & e^{i(\\pi/2+7\\pi/2)}\\cos(\\frac{\\pi}{2})\n",
    "\\end{pmatrix}=\n",
    "\\begin{pmatrix}\n",
    "        1 & 0                   & 0 & 0 \\\\\n",
    "        0 & 0           & 0 & i \\\\\n",
    "        0 & 0                   & 1 & 0 \\\\\n",
    "        0 & i  & 0 & 0\n",
    "\\end{pmatrix}\n",
    "\n",
    "\\end{split}\\end{aligned}\\end{align}"
   ]
  },
  {
   "cell_type": "markdown",
   "id": "04f536e1",
   "metadata": {},
   "source": [
    "y podemos implementarlo de manera manual como"
   ]
  },
  {
   "cell_type": "code",
   "execution_count": 4,
   "id": "027d01c1",
   "metadata": {},
   "outputs": [
    {
     "data": {
      "image/png": "[encoded data removed]",
      "text/plain": [
       "<Figure size 116.552x144.48 with 1 Axes>"
      ]
     },
     "execution_count": 4,
     "metadata": {},
     "output_type": "execute_result"
    }
   ],
   "source": [
    "CU3 = Operator([[1, 0, 0, 0], [0, 0, 0, 1j], [0, 0, 1, 0], [0, 1j, 0, 0]])\n",
    "noveno_circuito = QuantumCircuit(2)\n",
    "noveno_circuito.draw(\"mpl\")\n"
   ]
  },
  {
   "cell_type": "code",
   "execution_count": 5,
   "id": "dd953de0",
   "metadata": {},
   "outputs": [
    {
     "data": {
      "image/png": "[encoded data removed]",
      "text/plain": [
       "<Figure size 146.652x144.48 with 1 Axes>"
      ]
     },
     "execution_count": 5,
     "metadata": {},
     "output_type": "execute_result"
    }
   ],
   "source": [
    "noveno_circuito.initialize(Statevector.from_label(\"1\"), 0)\n",
    "noveno_circuito.draw(\"mpl\")"
   ]
  },
  {
   "cell_type": "code",
   "execution_count": 6,
   "id": "e4704799",
   "metadata": {},
   "outputs": [
    {
     "data": {
      "text/html": [
       "<pre style=\"word-wrap: normal;white-space: pre;background: #fff0;line-height: 1.1;font-family: &quot;Courier New&quot;,Courier,monospace\">     ┌─────────────────┐┌──────────┐\n",
       "q_0: ┤ Initialize(0,1) ├┤0         ├\n",
       "     └─────────────────┘│  Unitary │\n",
       "q_1: ───────────────────┤1         ├\n",
       "                        └──────────┘</pre>"
      ],
      "text/plain": [
       "     ┌─────────────────┐┌──────────┐\n",
       "q_0: ┤ Initialize(0,1) ├┤0         ├\n",
       "     └─────────────────┘│  Unitary │\n",
       "q_1: ───────────────────┤1         ├\n",
       "                        └──────────┘"
      ]
     },
     "execution_count": 6,
     "metadata": {},
     "output_type": "execute_result"
    }
   ],
   "source": [
    "noveno_circuito.append(CU3, [0,1])\n",
    "noveno_circuito.draw()"
   ]
  },
  {
   "cell_type": "markdown",
   "id": "0f128947",
   "metadata": {},
   "source": [
    "Sin embargo, la manera más eficiente es usando la misma que nos proporsiona Qiskit"
   ]
  },
  {
   "cell_type": "code",
   "execution_count": 7,
   "id": "7a96b2f2",
   "metadata": {},
   "outputs": [
    {
     "data": {
      "text/html": [
       "<pre style=\"word-wrap: normal;white-space: pre;background: #fff0;line-height: 1.1;font-family: &quot;Courier New&quot;,Courier,monospace\">     ┌─────────────────┐                  \n",
       "q_0: ┤ Initialize(0,1) ├────────■─────────\n",
       "     └─────────────────┘┌───────┴────────┐\n",
       "q_1: ───────────────────┤ U3(π,π/2,7π/2) ├\n",
       "                        └────────────────┘</pre>"
      ],
      "text/plain": [
       "     ┌─────────────────┐                  \n",
       "q_0: ┤ Initialize(0,1) ├────────■─────────\n",
       "     └─────────────────┘┌───────┴────────┐\n",
       "q_1: ───────────────────┤ U3(π,π/2,7π/2) ├\n",
       "                        └────────────────┘"
      ]
     },
     "execution_count": 7,
     "metadata": {},
     "output_type": "execute_result"
    }
   ],
   "source": [
    "from qiskit.circuit.library import CU3Gate\n",
    "CU3gate = CU3Gate(np.pi, np.pi/2, 7*np.pi/2)\n",
    "circuitoCU3gate = QuantumCircuit(2)\n",
    "circuitoCU3gate.initialize(Statevector.from_label(\"1\"), 0)\n",
    "circuitoCU3gate.draw(\"mpl\")\n",
    "circuitoCU3gate.append(CU3gate, [0, 1])\n",
    "circuitoCU3gate.draw()"
   ]
  },
  {
   "cell_type": "markdown",
   "id": "89630f1c-3b70-453a-b68d-6f77afb99883",
   "metadata": {},
   "source": [
    "## Clase 4-5"
   ]
  },
  {
   "cell_type": "markdown",
   "id": "9adfd07d-6fc3-4cc2-a491-211e46026c6c",
   "metadata": {},
   "source": [
    "4.- A partir de la relación existente entre la operación (módulo 2) y el operador XOR ($\\oplus$). Mostrar:\n",
    "\n",
    "\\begin{align}\n",
    "\\sum_{i=1}^n x_iz_i \\pmod 2=x_1z_1\\oplus x_2z_2\\oplus\\cdots\\oplus x_nz_n\n",
    "\\end{align}\n",
    "\n"
   ]
  },
  {
   "cell_type": "markdown",
   "id": "612fc6cd",
   "metadata": {},
   "source": [
    "    Solución"
   ]
  },
  {
   "cell_type": "markdown",
   "id": "3f49fd80",
   "metadata": {},
   "source": [
    "$Dem:$\\\n",
    "Podemos partir de la definición \n",
    "\\begin{align}\n",
    "\\sum_{i=1}^n x_iz_i \\pmod 2=x_1z_1\\pmod 2 + x_2z_2\\pmod 2 + \\cdots+ x_nz_n \\pmod 2\\\\\n",
    "=(x_1z_1 + x_2z_2)\\pmod 2 +\\cdots+ (x_{n-1}z_{n-1} + x_nz_n) \\pmod 2\n",
    "\\end{align}\n",
    "ahora, es importante recordar que el resultado de utilizar XOR en dos bits es el mismo que el de sumar esos dos bits mod 2, por lo que podemos escribir\n",
    "\\begin{align}\n",
    "\\sum_{i=1}^n x_iz_i \\pmod 2=x_1z_1\\oplus x_2z_2\\oplus\\cdots\\oplus x_nz_n\n",
    "\\end{align}\n",
    "\n"
   ]
  },
  {
   "cell_type": "markdown",
   "id": "a55a0e38",
   "metadata": {},
   "source": [
    "5.- Implementa el código para la función oráculo balanceado con $n=3$, la cual retorna el circuito cuántico qc. Considere que $f(x)$ está dado por:\n",
    "\n",
    "\\begin{align}\n",
    "f(001)&=0\\\\\n",
    "f(000)&=0\\\\\n",
    "f(111)&=0\\\\\n",
    "f(110)&=0\\\\\n",
    "f(011)&=1\\\\\n",
    "f(010)&=1\\\\\n",
    "f(100)&=1\\\\\n",
    "f(101)&=1\\\\\n",
    "\\end{align}"
   ]
  },
  {
   "cell_type": "markdown",
   "id": "2493f919",
   "metadata": {},
   "source": [
    "    Solución"
   ]
  },
  {
   "cell_type": "code",
   "execution_count": 8,
   "id": "1e51f03b",
   "metadata": {},
   "outputs": [
    {
     "data": {
      "image/png": "[encoded data removed]",
      "text/plain": [
       "<Figure size 568.197x264.88 with 1 Axes>"
      ]
     },
     "execution_count": 8,
     "metadata": {},
     "output_type": "execute_result"
    }
   ],
   "source": [
    "n = 3\n",
    "oraculo_b = QuantumCircuit(n+1)\n",
    "\n",
    "oraculo_b.x(0)\n",
    "oraculo_b.x(1)\n",
    "oraculo_b.barrier()\n",
    "\n",
    "for x in range(n):\n",
    "    oraculo_b.cx(x,3)\n",
    "\n",
    "oraculo_b.barrier()\n",
    "oraculo_b.x(0)\n",
    "oraculo_b.x(1)\n",
    "oraculo_b.barrier()\n",
    "\n",
    "oraculo_b.draw('mpl')"
   ]
  },
  {
   "cell_type": "markdown",
   "id": "0dec2878",
   "metadata": {},
   "source": [
    "6.- En la construcción más simple posible de un oráculo balanceado, se utiliza la compuerta $CX$, la cual toma como objetivo el $(n+1)$-ésimo qubit del circuito y como control cada uno de los $n$ primeros qubits. Sin embargo, ¿es realmente necesario aplicar $CX$ a todos los $n$ primeros qubits, o podríamos prescindir de algunos y obtener igualmente un oráculo balanceado?"
   ]
  },
  {
   "cell_type": "markdown",
   "id": "dca3eb2c",
   "metadata": {},
   "source": [
    "    Solución"
   ]
  },
  {
   "cell_type": "markdown",
   "id": "8ca9c771",
   "metadata": {},
   "source": [
    "Podemos prescindir de algunos.\n",
    "\n",
    " En un oráculo balanceado, la clave la función debe ser cero para la mitad de las posibles entradas y uno para la otra mitad. En este sentido podemos aplicar la puerta CNOT solo a las combinaciones de entradas que cambian el estado del bit objetivo. Esto significa que no es necesario aplicar la puerta CNOT a todas las combinaciones posibles de $n+1$ bits, sino solo a las que cumplen esta condición.\n",
    "\n",
    "Por ejemplo, en el caso de n=3, aplicamos la puerta CNOT solo a las entradas 011, 010, 100 y 101, ya que son las que cambian el estado del tercer qubit (bit objetivo). Lo mismo se aplica cuando tenemos n+1 qubits: solo necesitamos aplicar la puerta CNOT a las combinaciones de n bits que resultan en un cambio del bit objetivo."
   ]
  },
  {
   "cell_type": "markdown",
   "id": "a97e9729",
   "metadata": {},
   "source": [
    "7.- Implemente el algoritmo de Grover para determinar la máxima cantidad de aristas en un grafo de 5 nodos y 6 aristas:\n",
    "\n",
    "\\begin{align}\n",
    "(0,3)\\\\\n",
    "(0,4)\\\\\n",
    "(1,3)\\\\\n",
    "(1,4)\\\\\n",
    "(2,3)\\\\\n",
    "(2,4)\\\\\n",
    "\\end{align}"
   ]
  },
  {
   "cell_type": "markdown",
   "id": "ac7ec5f7",
   "metadata": {},
   "source": [
    "    Solución"
   ]
  },
  {
   "cell_type": "code",
   "execution_count": 9,
   "id": "f8df2ab1",
   "metadata": {},
   "outputs": [
    {
     "data": {
      "image/png": "[encoded data removed]",
      "text/plain": [
       "<Figure size 1591.6x927.08 with 1 Axes>"
      ]
     },
     "execution_count": 9,
     "metadata": {},
     "output_type": "execute_result"
    }
   ],
   "source": [
    "from qiskit import QuantumCircuit, Aer, transpile, assemble\n",
    "from qiskit.visualization import plot_histogram\n",
    "\n",
    "# Definir el grafo en forma de aristas\n",
    "aristas = [(0, 3), (0, 4), (1, 3), (1, 4), (2, 3), (2, 4)]\n",
    "\n",
    "# Crear una función oráculo que marque las aristas con nodos de mayor conectividad\n",
    "def oracle(circuit, nodes):\n",
    "    for arista in aristas:\n",
    "        if arista[0] in nodes or arista[1] in nodes:\n",
    "            circuit.cx(nodes[arista[0]], nodes[arista[1]])\n",
    "\n",
    "# Implementar el algoritmo de Grover\n",
    "def grover_algorithm(edges):\n",
    "    num_qubits = len(edges)\n",
    "    \n",
    "    # Crear circuito cuántico\n",
    "    \n",
    "    qc = QuantumCircuit(num_qubits, num_qubits)\n",
    "    \n",
    "    # Inicializar los qubits en estado superpuesto\n",
    "    qc.h(range(num_qubits))\n",
    "    \n",
    "    # Número de iteraciones Grover\n",
    "    num_iterations = 2\n",
    "    \n",
    "    for _ in range(num_iterations):\n",
    "        oracle(qc, range(num_qubits))\n",
    "        qc.h(range(num_qubits))\n",
    "        qc.x(range(num_qubits))\n",
    "        qc.h(num_qubits-1)\n",
    "        qc.mct(list(range(num_qubits-1)), num_qubits-1)\n",
    "        qc.h(num_qubits-1)\n",
    "        qc.x(range(num_qubits))\n",
    "        oracle(qc, range(num_qubits))\n",
    "        qc.h(range(num_qubits))\n",
    "    \n",
    "    # Medir los qubits\n",
    "    qc.measure(range(num_qubits), range(num_qubits))\n",
    "    \n",
    "    return qc\n",
    "\n",
    "# Ejecutar el algoritmo\n",
    "grover_circuit = grover_algorithm(aristas)\n",
    "\n",
    "# Visualizar el circuito\n",
    "grover_circuit.draw(output='mpl')\n"
   ]
  },
  {
   "cell_type": "markdown",
   "id": "fa21afeb-2e1e-4ad8-bba5-e3f8deeaa1ce",
   "metadata": {},
   "source": [
    "8.- En el algoritmo de Grover, determine el número de veces que debe ejercutarse el par $U_\\omega U_f$ para que el estado final de nuestro circuito coincida con el Ket de estados deseados sabiendo que $x\\in\\{0,1\\}^5$ y hay 4 estados que sastifacen las características de búsqueda."
   ]
  },
  {
   "cell_type": "markdown",
   "id": "06f3bb86",
   "metadata": {},
   "source": [
    "    Solución"
   ]
  },
  {
   "cell_type": "markdown",
   "id": "38efbdf7",
   "metadata": {},
   "source": [
    "El número de iteraciones necesarias en el alogoritmo de Grover para encontrar un estado deseado se puede calcular aproximadamente como \\\n",
    "$N \\approx \\frac{\\pi}{4} \\sqrt{\\frac{2^n}{a}}$ \\\n",
    "en este caso, dado que $x \\in \\{0,1\\}^5$ y hay 4 estados que satisfacen las caracteristicas de busqueda, estamos buscando 4 estados en un espacio de búsqueda de tamaño $2^5 = 32$ y tenemos que $a = 4$ son el número de estados que satisfacen las características de búsqueda. \\\n",
    "Entonces, el número de iteraciones es \\\n",
    "$N \\approx \\frac{\\pi}{4} \\sqrt{\\frac{32}{4}} = 2.22,$\\\n",
    "redondeando tenemos\\\n",
    "$N \\approx 3$\n"
   ]
  },
  {
   "cell_type": "markdown",
   "id": "fe6a0a56-4c1a-4307-bca1-ce168a444190",
   "metadata": {},
   "source": [
    "Extra 1.- Si\n",
    "\n",
    "\\begin{align}\n",
    "\\ket{\\psi3}&=U\\omega\\ket{\\psi_2}\\\n",
    "&=\\left(2\\ket{s}\\bra{s}-\\mathbb{I}\\right)\\left(-\\sqrt{\\frac{a}{2^n}}\\ket{A}+\\sqrt{\\frac{b}{2^n}}\\ket{B}\\right)\n",
    "\\end{align}\n",
    "\n",
    "Usando\n",
    "\\begin{align}\n",
    "\\ket{s}\\bra{s}=\\frac{a}{2^n}\\ket{A}\\bra{A}+\\frac{b}{2^n}\\ket{B}\\bra{B}+\\frac{\\sqrt{ab}}{2^n}\\left[\\ket{A}\\bra{B}+\\ket{B}\\bra{A}\\right]\n",
    "\\end{align}\n",
    "\n",
    "\\begin{align}\n",
    "&\\sin\\theta=\\sqrt{\\frac{a}{2^n}}\n",
    "&\\cos\\theta=\\sqrt{\\frac{b}{2^n}}\n",
    "\\end{align}\n",
    "\n",
    "Demuestre:\n",
    "\\begin{align}\n",
    "\\ket{\\psi_3}=\\sin 3\\theta\\ket{A}+\\cos 3\\theta\\ket{B}\n",
    "\\end{align}"
   ]
  },
  {
   "cell_type": "markdown",
   "id": "45f0b579",
   "metadata": {},
   "source": [
    "    Solución"
   ]
  },
  {
   "cell_type": "markdown",
   "id": "e733dafb",
   "metadata": {},
   "source": [
    "$Dem:$ \\\n",
    "Teniendo en cuenta \\\n",
    "$\n",
    "\\begin{align}\n",
    "\\ket{\\psi3}&=\\left(2\\ket{s}\\bra{s}-\\mathbb{I}\\right)\\left(-\\sqrt{\\frac{a}{2^n}}\\ket{A}+\\sqrt{\\frac{b}{2^n}}\\ket{B}\\right) \\\\\n",
    "&= \\left( 2 \\Big( \\frac{a}{2^n}\\ket{A}\\bra{A}+\\frac{b}{2^n}\\ket{B}\\bra{B}+\\frac{\\sqrt{ab}}{2^n} \\left[ \\ket{A}\\bra{B}+\\ket{B}\\bra{A}\\right] \\Big) - \\mathbb{I} \\right) \\left(-\\sqrt{\\frac{a}{2^n}}\\ket{A}+\\sqrt{\\frac{b}{2^n}}\\ket{B}\\right) \\\\\n",
    "&= -\\frac{2a}{2^n}\\sqrt{\\frac{a}{2^n}}\\ket{A}\\braket{A|A} - \\frac{2b}{2^n}\\sqrt{\\frac{a}{2^n}}\\ket{B}\\braket{B|A}-\\frac{2\\sqrt{ab}}{2^n}\\sqrt{\\frac{a}{2^n}}\\ket{A}\\braket{B|A}-\\frac{2\\sqrt{ab}}{2^n}\\sqrt{\\frac{a}{2^n}}\\ket{B}\\braket{A|A} + \\sqrt{\\frac{a}{2^n}}\\ket{A} +\\\\\n",
    "&~~~~ + \\frac{2a}{2^n}\\sqrt{\\frac{b}{2^n}}\\ket{A}\\braket{A|B} + \\frac{2b}{2^n}\\sqrt{\\frac{b}{2^n}}\\ket{B}\\braket{B|B} +\\frac{2\\sqrt{ab}}{2^n}\\sqrt{\\frac{b}{2^n}}\\ket{A}\\braket{B|B} + \\frac{2\\sqrt{ab}}{2^n}\\sqrt{\\frac{b}{2^n}}\\ket{B}\\braket{A|B} - \\sqrt{\\frac{b}{2^n}}\\ket{B} \\\\\n",
    "& = \\left( -\\frac{2a}{2^n}\\sqrt{\\frac{a}{2^n}} + \\sqrt{\\frac{a}{2^n}} + \\frac{2\\sqrt{ab}}{2^n}\\sqrt{\\frac{b}{2^n}}    \\right)\\ket{A} + \\left( + \\frac{2b}{2^n}\\sqrt{\\frac{b}{2^n}} - \\sqrt{\\frac{b}{2^n}} + \\frac{2\\sqrt{ab}}{2^n}\\sqrt{\\frac{a}{2^n}}    \\right)\\ket{B}\n",
    "\\end{align}\n",
    "$\n",
    "\n",
    "Ahora, sabiendo que \\\n",
    "$\n",
    "\\begin{align}\n",
    "&\\sin\\theta=\\sqrt{\\frac{a}{2^n}}\n",
    "&\\cos\\theta=\\sqrt{\\frac{b}{2^n}}\n",
    "\\end{align}\n",
    "$\n",
    "y usando identidades trigonométricas tenemos que \n",
    "$\n",
    "\\begin{align}\n",
    "\\ket{\\psi3}&= \\left( -\\frac{2a}{2^n}\\sqrt{\\frac{a}{2^n}} + \\sqrt{\\frac{a}{2^n}} + \\frac{2\\sqrt{ab}}{2^n}\\sqrt{\\frac{b}{2^n}}    \\right)\\ket{A} + \\left( + \\frac{2b}{2^n}\\sqrt{\\frac{b}{2^n}} - \\sqrt{\\frac{b}{2^n}} + \\frac{2\\sqrt{ab}}{2^n}\\sqrt{\\frac{a}{2^n}}    \\right)\\ket{B} \\\\\n",
    "& = \\left( \\sin\\theta-2\\sin^3\\theta + 2\\sin\\theta\\cos^2\\theta \\right) \\ket{A} + \\left( -\\cos\\theta + 2\\cos^3\\theta - 2\\cos\\theta\\sin^2\\theta \\right) \\ket{B} \\\\\n",
    "& = \\sin 3\\theta\\ket{A}+\\cos 3\\theta\\ket{B}\n",
    "\\end{align}\n",
    "$"
   ]
  },
  {
   "cell_type": "markdown",
   "id": "82a0a443-064c-4a24-8df7-33008ba3790a",
   "metadata": {},
   "source": [
    "## Clase 6:"
   ]
  },
  {
   "cell_type": "markdown",
   "id": "05ba4e37-34a3-4fc7-8ccd-46d2ced4a0d1",
   "metadata": {},
   "source": [
    "9.- La implementación de QFT se probó preparando el estado de Fourier $|\\widetilde{5}\\rangle$ para el cual $\\text{QFT}^{\\dagger}|\\widetilde{5}\\rangle= |101\\rangle$. Intenta encontrar el estado $|a\\rangle$ tal que $\\text{QFT}^{\\dagger}|a\\rangle = |100\\rangle$."
   ]
  },
  {
   "cell_type": "markdown",
   "id": "f3181d15",
   "metadata": {},
   "source": [
    "    Solución"
   ]
  },
  {
   "cell_type": "code",
   "execution_count": 10,
   "id": "a329374a",
   "metadata": {},
   "outputs": [],
   "source": [
    "import numpy as np\n",
    "from numpy import pi\n",
    "# importing Qiskit\n",
    "from qiskit import QuantumCircuit, transpile, Aer, IBMQ\n",
    "from qiskit.tools.monitor import job_monitor\n",
    "from qiskit.visualization import plot_histogram, plot_bloch_multivector"
   ]
  },
  {
   "cell_type": "code",
   "execution_count": 11,
   "id": "4eee8ecd",
   "metadata": {},
   "outputs": [],
   "source": [
    "def qft_rotations(circuit, n):\n",
    "    \"\"\"Performs qft on the first n qubits in circuit (without swaps)\"\"\"\n",
    "    if n == 0:\n",
    "        return circuit\n",
    "    n -= 1\n",
    "    circuit.h(n)\n",
    "    for qubit in range(n):\n",
    "        circuit.cp(pi/2**(n-qubit), qubit, n)\n",
    "    # At the end of our function, we call the same function again on\n",
    "    # the next qubits (we reduced n by one earlier in the function)\n",
    "    qft_rotations(circuit, n)"
   ]
  },
  {
   "cell_type": "code",
   "execution_count": 12,
   "id": "ca3ad113",
   "metadata": {},
   "outputs": [],
   "source": [
    "def swap_registers(circuit, n):\n",
    "    for qubit in range(n//2):\n",
    "        circuit.swap(qubit, n-qubit-1)\n",
    "    return circuit\n",
    "\n",
    "def qft(circuit, n):\n",
    "    \"\"\"QFT on the first n qubits in circuit\"\"\"\n",
    "    qft_rotations(circuit, n)\n",
    "    swap_registers(circuit, n)\n",
    "    return circuit"
   ]
  },
  {
   "cell_type": "code",
   "execution_count": 13,
   "id": "ccb93b2d",
   "metadata": {},
   "outputs": [
    {
     "data": {
      "text/html": [
       "<pre style=\"word-wrap: normal;white-space: pre;background: #fff0;line-height: 1.1;font-family: &quot;Courier New&quot;,Courier,monospace\">     ┌───┐\n",
       "q_0: ┤ X ├\n",
       "     └───┘\n",
       "q_1: ─────\n",
       "          \n",
       "q_2: ─────\n",
       "          </pre>"
      ],
      "text/plain": [
       "     ┌───┐\n",
       "q_0: ┤ X ├\n",
       "     └───┘\n",
       "q_1: ─────\n",
       "          \n",
       "q_2: ─────\n",
       "          "
      ]
     },
     "execution_count": 13,
     "metadata": {},
     "output_type": "execute_result"
    }
   ],
   "source": [
    "# Create the circuit\n",
    "qc = QuantumCircuit(3)\n",
    "\n",
    "# Encode the state 5\n",
    "qc.x(0)\n",
    "qc.draw()"
   ]
  },
  {
   "cell_type": "code",
   "execution_count": 14,
   "id": "1c465b67",
   "metadata": {},
   "outputs": [
    {
     "data": {
      "image/png": "[encoded data removed]",
      "text/plain": [
       "<Figure size 864x288 with 3 Axes>"
      ]
     },
     "execution_count": 14,
     "metadata": {},
     "output_type": "execute_result"
    }
   ],
   "source": [
    "sim = Aer.get_backend(\"aer_simulator\")\n",
    "qc_init = qc.copy()\n",
    "qc_init.save_statevector()\n",
    "statevector = sim.run(qc_init).result().get_statevector()\n",
    "plot_bloch_multivector(statevector)"
   ]
  },
  {
   "cell_type": "code",
   "execution_count": 15,
   "id": "05e84679",
   "metadata": {},
   "outputs": [
    {
     "data": {
      "text/html": [
       "<pre style=\"word-wrap: normal;white-space: pre;background: #fff0;line-height: 1.1;font-family: &quot;Courier New&quot;,Courier,monospace\">     ┌───┐                                ┌───┐   \n",
       "q_0: ┤ X ├─■──────────────────────■───────┤ H ├─X─\n",
       "     └───┘ │                ┌───┐ │P(π/2) └───┘ │ \n",
       "q_1: ──────┼────────■───────┤ H ├─■─────────────┼─\n",
       "     ┌───┐ │P(π/4)  │P(π/2) └───┘               │ \n",
       "q_2: ┤ H ├─■────────■───────────────────────────X─\n",
       "     └───┘                                        </pre>"
      ],
      "text/plain": [
       "     ┌───┐                                ┌───┐   \n",
       "q_0: ┤ X ├─■──────────────────────■───────┤ H ├─X─\n",
       "     └───┘ │                ┌───┐ │P(π/2) └───┘ │ \n",
       "q_1: ──────┼────────■───────┤ H ├─■─────────────┼─\n",
       "     ┌───┐ │P(π/4)  │P(π/2) └───┘               │ \n",
       "q_2: ┤ H ├─■────────■───────────────────────────X─\n",
       "     └───┘                                        "
      ]
     },
     "execution_count": 15,
     "metadata": {},
     "output_type": "execute_result"
    }
   ],
   "source": [
    "qft(qc,3)\n",
    "qc.draw()"
   ]
  },
  {
   "cell_type": "code",
   "execution_count": 16,
   "id": "1856012e",
   "metadata": {},
   "outputs": [
    {
     "name": "stdout",
     "output_type": "stream",
     "text": [
      "     ┌───┐                                ┌───┐    statevector \n",
      "q_0: ┤ X ├─■──────────────────────■───────┤ H ├─X───────░──────\n",
      "     └───┘ │                ┌───┐ │P(π/2) └───┘ │       ░      \n",
      "q_1: ──────┼────────■───────┤ H ├─■─────────────┼───────░──────\n",
      "     ┌───┐ │P(π/4)  │P(π/2) └───┘               │       ░      \n",
      "q_2: ┤ H ├─■────────■───────────────────────────X───────░──────\n",
      "     └───┘                                              ░      \n"
     ]
    }
   ],
   "source": [
    "qc.save_statevector()\n",
    "statevector = sim.run(qc).result().get_statevector()\n",
    "print(qc)"
   ]
  },
  {
   "cell_type": "markdown",
   "id": "e9eb4068",
   "metadata": {},
   "source": [
    "$a$ es tal que"
   ]
  },
  {
   "cell_type": "code",
   "execution_count": 17,
   "id": "6306da0f",
   "metadata": {},
   "outputs": [
    {
     "name": "stdout",
     "output_type": "stream",
     "text": [
      "Statevector([ 3.53553391e-01-4.32978028e-17j,\n",
      "              2.50000000e-01+2.50000000e-01j,\n",
      "              6.49467042e-17+3.53553391e-01j,\n",
      "             -2.50000000e-01+2.50000000e-01j,\n",
      "             -3.53553391e-01+4.32978028e-17j,\n",
      "             -2.50000000e-01-2.50000000e-01j,\n",
      "             -6.49467042e-17-3.53553391e-01j,\n",
      "              2.50000000e-01-2.50000000e-01j],\n",
      "            dims=(2, 2, 2))\n"
     ]
    }
   ],
   "source": [
    "a = statevector\n",
    "print(a)"
   ]
  },
  {
   "cell_type": "markdown",
   "id": "ff28ccbf",
   "metadata": {},
   "source": [
    "10.- Encuentra el estado $|b\\rangle$ tal que $\\text{QFT}^{\\dagger}|b\\rangle = |011\\rangle$."
   ]
  },
  {
   "cell_type": "markdown",
   "id": "a46d9d9a",
   "metadata": {},
   "source": [
    "    Solución"
   ]
  },
  {
   "cell_type": "code",
   "execution_count": 18,
   "id": "e367184a",
   "metadata": {},
   "outputs": [
    {
     "data": {
      "text/html": [
       "<pre style=\"word-wrap: normal;white-space: pre;background: #fff0;line-height: 1.1;font-family: &quot;Courier New&quot;,Courier,monospace\">          \n",
       "q_0: ─────\n",
       "     ┌───┐\n",
       "q_1: ┤ X ├\n",
       "     ├───┤\n",
       "q_2: ┤ X ├\n",
       "     └───┘</pre>"
      ],
      "text/plain": [
       "          \n",
       "q_0: ─────\n",
       "     ┌───┐\n",
       "q_1: ┤ X ├\n",
       "     ├───┤\n",
       "q_2: ┤ X ├\n",
       "     └───┘"
      ]
     },
     "execution_count": 18,
     "metadata": {},
     "output_type": "execute_result"
    }
   ],
   "source": [
    "# Create the circuit\n",
    "qc_p10 = QuantumCircuit(3)\n",
    "\n",
    "# Encode the state 5\n",
    "qc_p10.x(1)\n",
    "qc_p10.x(2)\n",
    "\n",
    "qc_p10.draw()"
   ]
  },
  {
   "cell_type": "code",
   "execution_count": 19,
   "id": "db139037",
   "metadata": {},
   "outputs": [
    {
     "data": {
      "text/html": [
       "<pre style=\"word-wrap: normal;white-space: pre;background: #fff0;line-height: 1.1;font-family: &quot;Courier New&quot;,Courier,monospace\">                                               ┌───┐   \n",
       "q_0: ───────────■──────────────────────■───────┤ H ├─X─\n",
       "     ┌───┐      │                ┌───┐ │P(π/2) └───┘ │ \n",
       "q_1: ┤ X ├──────┼────────■───────┤ H ├─■─────────────┼─\n",
       "     ├───┤┌───┐ │P(π/4)  │P(π/2) └───┘               │ \n",
       "q_2: ┤ X ├┤ H ├─■────────■───────────────────────────X─\n",
       "     └───┘└───┘                                        </pre>"
      ],
      "text/plain": [
       "                                               ┌───┐   \n",
       "q_0: ───────────■──────────────────────■───────┤ H ├─X─\n",
       "     ┌───┐      │                ┌───┐ │P(π/2) └───┘ │ \n",
       "q_1: ┤ X ├──────┼────────■───────┤ H ├─■─────────────┼─\n",
       "     ├───┤┌───┐ │P(π/4)  │P(π/2) └───┘               │ \n",
       "q_2: ┤ X ├┤ H ├─■────────■───────────────────────────X─\n",
       "     └───┘└───┘                                        "
      ]
     },
     "execution_count": 19,
     "metadata": {},
     "output_type": "execute_result"
    }
   ],
   "source": [
    "qft(qc_p10,3)\n",
    "qc_p10.draw()"
   ]
  },
  {
   "cell_type": "markdown",
   "id": "e5dc53f3",
   "metadata": {},
   "source": [
    "$b$ es tal que"
   ]
  },
  {
   "cell_type": "code",
   "execution_count": 20,
   "id": "b5d394aa",
   "metadata": {},
   "outputs": [
    {
     "name": "stdout",
     "output_type": "stream",
     "text": [
      "Statevector([ 3.53553391e-01-8.65956056e-17j,\n",
      "             -1.08244507e-16-3.53553391e-01j,\n",
      "             -3.53553391e-01+8.65956056e-17j,\n",
      "              1.08244507e-16+3.53553391e-01j,\n",
      "              3.53553391e-01-8.65956056e-17j,\n",
      "             -1.08244507e-16-3.53553391e-01j,\n",
      "             -3.53553391e-01+8.65956056e-17j,\n",
      "              1.08244507e-16+3.53553391e-01j],\n",
      "            dims=(2, 2, 2))\n"
     ]
    }
   ],
   "source": [
    "qc_p10.save_statevector()\n",
    "statevector = sim.run(qc_p10).result().get_statevector()\n",
    "b = statevector\n",
    "print(b)"
   ]
  },
  {
   "cell_type": "markdown",
   "id": "f77761be",
   "metadata": {},
   "source": [
    "Extra 3. Intente escribir la función QFT sin recursividad. Utilice el simulador unitario de Qiskit para verificar sus resultados."
   ]
  },
  {
   "cell_type": "markdown",
   "id": "1a7fdbd1-97e6-419b-95d4-18abd28facfb",
   "metadata": {},
   "source": [
    "## 5. Recursos útiles\n",
    "\n",
    "* Los notebooks y sus referencias.\n",
    "\n",
    "## Donaciones\n",
    "<br>\n",
    "<center>\n",
    "Puedes donar una vez en el siguiente enlace (Ko-Fi):\n",
    "\n",
    "<br>\n",
    "    \n",
    "*Click en la imagen.*\n",
    "\n",
    "<a href=\"https://ko-fi.com/rcrdphysics\">\n",
    "<img src=\"https://habrastorage.org/webt/8r/ml/xf/8rmlxfpdzukegpxa62cxlfvgkqe.png\" width=20% />\n",
    "\n",
    "</center>"
   ]
  },
  {
   "cell_type": "code",
   "execution_count": null,
   "id": "b44c66ff-164f-499b-a270-87639b7ee846",
   "metadata": {},
   "outputs": [],
   "source": []
  }
 ],
 "metadata": {
  "kernelspec": {
   "display_name": "Python 3 (ipykernel)",
   "language": "python",
   "name": "python3"
  },
  "language_info": {
   "codemirror_mode": {
    "name": "ipython",
    "version": 3
   },
   "file_extension": ".py",
   "mimetype": "text/x-python",
   "name": "python",
   "nbconvert_exporter": "python",
   "pygments_lexer": "ipython3",
   "version": "3.10.5"
  },
  "widgets": {
   "application/vnd.jupyter.widget-state+json": {
    "state": {},
    "version_major": 2,
    "version_minor": 0
   }
  }
 },
 "nbformat": 4,
 "nbformat_minor": 5
}
